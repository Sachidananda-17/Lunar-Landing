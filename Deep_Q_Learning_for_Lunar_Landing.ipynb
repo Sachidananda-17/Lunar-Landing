{
  "cells": [
    {
      "cell_type": "markdown",
      "metadata": {
        "id": "view-in-github",
        "colab_type": "text"
      },
      "source": [
        "<a href=\"https://colab.research.google.com/github/Sachidananda-17/Lunar-Landing/blob/main/Deep_Q_Learning_for_Lunar_Landing.ipynb\" target=\"_parent\"><img src=\"https://colab.research.google.com/assets/colab-badge.svg\" alt=\"Open In Colab\"/></a>"
      ]
    },
    {
      "cell_type": "markdown",
      "metadata": {
        "id": "LbZcI9ZXHl3a"
      },
      "source": [
        "# Deep Q-Learning for Lunar Landing"
      ]
    },
    {
      "cell_type": "markdown",
      "metadata": {
        "id": "E8yPRjteXgPb"
      },
      "source": [
        "## Part 0 - Installing the required packages and importing the libraries"
      ]
    },
    {
      "cell_type": "markdown",
      "metadata": {
        "id": "slEm5teGWjWU"
      },
      "source": [
        "### Installing Gymnasium"
      ]
    },
    {
      "cell_type": "code",
      "execution_count": 1,
      "metadata": {
        "id": "dbnq3XpoKa_7",
        "colab": {
          "base_uri": "https://localhost:8080/"
        },
        "outputId": "e7bf94ba-9cfb-4d70-ab5b-93407f3a8411"
      },
      "outputs": [
        {
          "output_type": "stream",
          "name": "stdout",
          "text": [
            "Requirement already satisfied: gymnasium in /usr/local/lib/python3.10/dist-packages (0.29.1)\n",
            "Requirement already satisfied: numpy>=1.21.0 in /usr/local/lib/python3.10/dist-packages (from gymnasium) (1.23.5)\n",
            "Requirement already satisfied: cloudpickle>=1.2.0 in /usr/local/lib/python3.10/dist-packages (from gymnasium) (2.2.1)\n",
            "Requirement already satisfied: typing-extensions>=4.3.0 in /usr/local/lib/python3.10/dist-packages (from gymnasium) (4.9.0)\n",
            "Requirement already satisfied: farama-notifications>=0.0.1 in /usr/local/lib/python3.10/dist-packages (from gymnasium) (0.0.4)\n",
            "Requirement already satisfied: gymnasium[accept-rom-license,atari] in /usr/local/lib/python3.10/dist-packages (0.29.1)\n",
            "Requirement already satisfied: numpy>=1.21.0 in /usr/local/lib/python3.10/dist-packages (from gymnasium[accept-rom-license,atari]) (1.23.5)\n",
            "Requirement already satisfied: cloudpickle>=1.2.0 in /usr/local/lib/python3.10/dist-packages (from gymnasium[accept-rom-license,atari]) (2.2.1)\n",
            "Requirement already satisfied: typing-extensions>=4.3.0 in /usr/local/lib/python3.10/dist-packages (from gymnasium[accept-rom-license,atari]) (4.9.0)\n",
            "Requirement already satisfied: farama-notifications>=0.0.1 in /usr/local/lib/python3.10/dist-packages (from gymnasium[accept-rom-license,atari]) (0.0.4)\n",
            "Requirement already satisfied: shimmy[atari]<1.0,>=0.1.0 in /usr/local/lib/python3.10/dist-packages (from gymnasium[accept-rom-license,atari]) (0.2.1)\n",
            "Requirement already satisfied: autorom[accept-rom-license]~=0.4.2 in /usr/local/lib/python3.10/dist-packages (from gymnasium[accept-rom-license,atari]) (0.4.2)\n",
            "Requirement already satisfied: click in /usr/local/lib/python3.10/dist-packages (from autorom[accept-rom-license]~=0.4.2->gymnasium[accept-rom-license,atari]) (8.1.7)\n",
            "Requirement already satisfied: requests in /usr/local/lib/python3.10/dist-packages (from autorom[accept-rom-license]~=0.4.2->gymnasium[accept-rom-license,atari]) (2.31.0)\n",
            "Requirement already satisfied: tqdm in /usr/local/lib/python3.10/dist-packages (from autorom[accept-rom-license]~=0.4.2->gymnasium[accept-rom-license,atari]) (4.66.1)\n",
            "Requirement already satisfied: AutoROM.accept-rom-license in /usr/local/lib/python3.10/dist-packages (from autorom[accept-rom-license]~=0.4.2->gymnasium[accept-rom-license,atari]) (0.6.1)\n",
            "Requirement already satisfied: ale-py~=0.8.1 in /usr/local/lib/python3.10/dist-packages (from shimmy[atari]<1.0,>=0.1.0->gymnasium[accept-rom-license,atari]) (0.8.1)\n",
            "Requirement already satisfied: importlib-resources in /usr/local/lib/python3.10/dist-packages (from ale-py~=0.8.1->shimmy[atari]<1.0,>=0.1.0->gymnasium[accept-rom-license,atari]) (6.1.1)\n",
            "Requirement already satisfied: charset-normalizer<4,>=2 in /usr/local/lib/python3.10/dist-packages (from requests->autorom[accept-rom-license]~=0.4.2->gymnasium[accept-rom-license,atari]) (3.3.2)\n",
            "Requirement already satisfied: idna<4,>=2.5 in /usr/local/lib/python3.10/dist-packages (from requests->autorom[accept-rom-license]~=0.4.2->gymnasium[accept-rom-license,atari]) (3.6)\n",
            "Requirement already satisfied: urllib3<3,>=1.21.1 in /usr/local/lib/python3.10/dist-packages (from requests->autorom[accept-rom-license]~=0.4.2->gymnasium[accept-rom-license,atari]) (2.0.7)\n",
            "Requirement already satisfied: certifi>=2017.4.17 in /usr/local/lib/python3.10/dist-packages (from requests->autorom[accept-rom-license]~=0.4.2->gymnasium[accept-rom-license,atari]) (2024.2.2)\n",
            "Reading package lists... Done\n",
            "Building dependency tree... Done\n",
            "Reading state information... Done\n",
            "swig is already the newest version (4.0.2-1ubuntu1).\n",
            "0 upgraded, 0 newly installed, 0 to remove and 32 not upgraded.\n",
            "Requirement already satisfied: gymnasium[box2d] in /usr/local/lib/python3.10/dist-packages (0.29.1)\n",
            "Requirement already satisfied: numpy>=1.21.0 in /usr/local/lib/python3.10/dist-packages (from gymnasium[box2d]) (1.23.5)\n",
            "Requirement already satisfied: cloudpickle>=1.2.0 in /usr/local/lib/python3.10/dist-packages (from gymnasium[box2d]) (2.2.1)\n",
            "Requirement already satisfied: typing-extensions>=4.3.0 in /usr/local/lib/python3.10/dist-packages (from gymnasium[box2d]) (4.9.0)\n",
            "Requirement already satisfied: farama-notifications>=0.0.1 in /usr/local/lib/python3.10/dist-packages (from gymnasium[box2d]) (0.0.4)\n",
            "Requirement already satisfied: box2d-py==2.3.5 in /usr/local/lib/python3.10/dist-packages (from gymnasium[box2d]) (2.3.5)\n",
            "Requirement already satisfied: pygame>=2.1.3 in /usr/local/lib/python3.10/dist-packages (from gymnasium[box2d]) (2.5.2)\n",
            "Requirement already satisfied: swig==4.* in /usr/local/lib/python3.10/dist-packages (from gymnasium[box2d]) (4.2.0)\n"
          ]
        }
      ],
      "source": [
        "!pip install gymnasium\n",
        "!pip install \"gymnasium[atari, accept-rom-license]\"\n",
        "!apt-get install -y swig\n",
        "!pip install gymnasium[box2d]"
      ]
    },
    {
      "cell_type": "markdown",
      "metadata": {
        "id": "brqiMN3UW9T9"
      },
      "source": [
        "### Importing the libraries"
      ]
    },
    {
      "cell_type": "code",
      "execution_count": 2,
      "metadata": {
        "id": "mZaKXP_aMl9O"
      },
      "outputs": [],
      "source": [
        "import os\n",
        "import random\n",
        "import numpy as np\n",
        "import torch\n",
        "import torch.nn as nn\n",
        "import torch.optim as optim\n",
        "import torch.nn.functional as F\n",
        "import torch.autograd as autograd\n",
        "from torch.autograd import Variable\n",
        "from collections import deque, namedtuple"
      ]
    },
    {
      "cell_type": "markdown",
      "metadata": {
        "id": "EzlDKXvkXzGI"
      },
      "source": [
        "## Part 1 - Building the AI"
      ]
    },
    {
      "cell_type": "markdown",
      "metadata": {
        "id": "UtG6Zc83YYy3"
      },
      "source": [
        "### Creating the architecture of the Neural Network"
      ]
    },
    {
      "cell_type": "code",
      "source": [
        "class Network(nn.Module):\n",
        "\n",
        "  def __init__(self, state_size, action_size, seed = 42):\n",
        "    super(Network, self).__init__()   ## to activate the inheritance\n",
        "    self.seed = torch.manual_seed(seed)\n",
        "    self.fc1 = nn.Linear(state_size, 64)   ## (based on  trail and error)  here 64 number of numbers were  written on some calculations so there is no need of the static number for the optimal number of  nurons for the neural networks!!\n",
        "    self.fc2 = nn.Linear(64, 64)\n",
        "    self.fc3 = nn.Linear(64, action_size)    #action_size is 4 where   ===>  0: do nothing  1: fire left orientation engine   2: fire main engine  3: fire right orientation engine\n",
        "\n",
        "  def forward(self, state):     ##sending the signla to the neural network from the input  and attaing the output actions to be continuaed after the neural network processed\n",
        "    x = self.fc1(state)\n",
        "    x = F.relu(x)\n",
        "    x = self.fc2(x)\n",
        "    x = F.relu(x)\n",
        "    return self.fc3(x)"
      ],
      "metadata": {
        "id": "j5z1C1RfnTs9"
      },
      "execution_count": 3,
      "outputs": []
    },
    {
      "cell_type": "markdown",
      "metadata": {
        "id": "UxVrBnFWZKb1"
      },
      "source": [
        "## Part 2 - Training the AI"
      ]
    },
    {
      "cell_type": "markdown",
      "metadata": {
        "id": "T364fz9qZb2j"
      },
      "source": [
        "### Setting up the environment"
      ]
    },
    {
      "cell_type": "code",
      "source": [
        "import gymnasium as gym\n",
        "env = gym.make('LunarLander-v2')\n",
        "state_shape = env.observation_space.shape\n",
        "state_size = env.observation_space.shape[0]\n",
        "number_actions = env.action_space.n\n",
        "print('State shape: ', state_shape)\n",
        "print('State size: ', state_size)\n",
        "print('Number of actions: ', number_actions)"
      ],
      "metadata": {
        "colab": {
          "base_uri": "https://localhost:8080/"
        },
        "id": "4_P5bbY3n5s5",
        "outputId": "ea33eeba-d6ff-4ea1-f398-537de7d3dabc"
      },
      "execution_count": 4,
      "outputs": [
        {
          "output_type": "stream",
          "name": "stdout",
          "text": [
            "State shape:  (8,)\n",
            "State size:  8\n",
            "Number of actions:  4\n"
          ]
        }
      ]
    },
    {
      "cell_type": "markdown",
      "metadata": {
        "id": "c_dZmOIvZgj-"
      },
      "source": [
        "### Initializing the hyperparameters"
      ]
    },
    {
      "cell_type": "code",
      "source": [
        "learning_rate = 5e-4     #5 times 10 power -4   based on trail and error method\n",
        "minibatch_size = 100\n",
        "discount_factor = 0.99\n",
        "replay_buffer_size = int(1e5)    ##100 thousand\n",
        "interpolation_parameter = 1e-3    #used for the training"
      ],
      "metadata": {
        "colab": {
          "base_uri": "https://localhost:8080/"
        },
        "id": "GyXpLR3Vn_KY",
        "outputId": "ea604863-59da-496f-abd5-6329e195d15f"
      },
      "execution_count": 5,
      "outputs": [
        {
          "output_type": "stream",
          "name": "stderr",
          "text": [
            "/usr/local/lib/python3.10/dist-packages/ipykernel/ipkernel.py:283: DeprecationWarning: `should_run_async` will not call `transform_cell` automatically in the future. Please pass the result to `transformed_cell` argument and any exception that happen during thetransform in `preprocessing_exc_tuple` in IPython 7.17 and above.\n",
            "  and should_run_async(code)\n"
          ]
        }
      ]
    },
    {
      "cell_type": "markdown",
      "metadata": {
        "id": "8hD_Vs-bYnip"
      },
      "source": [
        "### Implementing Experience Replay"
      ]
    },
    {
      "cell_type": "code",
      "source": [
        "class ReplayMemory(object):\n",
        "\n",
        "  def __init__(self, capacity):\n",
        "    self.device = torch.device(\"cuda:0\" if torch.cuda.is_available() else \"cpu\")\n",
        "    self.capacity = capacity\n",
        "    self.memory = []\n",
        "\n",
        "  def push(self, event):        # to add event  experience into memory\n",
        "    self.memory.append(event)\n",
        "    if len(self.memory) > self.capacity:\n",
        "      del self.memory[0]\n",
        "\n",
        "  def sample(self, batch_size):\n",
        "    experiences = random.sample(self.memory, k = batch_size)\n",
        "    states = torch.from_numpy(np.vstack([e[0] for e in experiences if e is not None])).float().to(self.device)\n",
        "    actions = torch.from_numpy(np.vstack([e[1] for e in experiences if e is not None])).long().to(self.device)\n",
        "    rewards = torch.from_numpy(np.vstack([e[2] for e in experiences if e is not None])).float().to(self.device)\n",
        "    next_states = torch.from_numpy(np.vstack([e[3] for e in experiences if e is not None])).float().to(self.device)\n",
        "    dones = torch.from_numpy(np.vstack([e[4] for e in experiences if e is not None]).astype(np.uint8)).float().to(self.device)\n",
        "    return states, next_states, actions, rewards, dones"
      ],
      "metadata": {
        "id": "2uWIVOksoEtX"
      },
      "execution_count": 6,
      "outputs": []
    },
    {
      "cell_type": "markdown",
      "metadata": {
        "id": "JmEkbFbUY6Jt"
      },
      "source": [
        "### Implementing the DQN class"
      ]
    },
    {
      "cell_type": "code",
      "source": [
        "class Agent():\n",
        "\n",
        "  def __init__(self, state_size, action_size):\n",
        "    self.device = torch.device(\"cuda:0\" if torch.cuda.is_available() else \"cpu\")\n",
        "    self.state_size = state_size\n",
        "    self.action_size = action_size\n",
        "    self.local_qnetwork = Network(state_size, action_size).to(self.device)\n",
        "    self.target_qnetwork = Network(state_size, action_size).to(self.device)\n",
        "    self.optimizer = optim.Adam(self.local_qnetwork.parameters(), lr = learning_rate)\n",
        "    self.memory = ReplayMemory(replay_buffer_size)\n",
        "    self.t_step = 0\n",
        "\n",
        "  def step(self, state, action, reward, next_state, done):\n",
        "    self.memory.push((state, action, reward, next_state, done))\n",
        "    self.t_step = (self.t_step + 1) % 4          # make the agent to learn for every 4th step so we are dividing with the 4\n",
        "    if self.t_step == 0:\n",
        "      if len(self.memory.memory) > minibatch_size:\n",
        "        experiences = self.memory.sample(100)\n",
        "        self.learn(experiences, discount_factor)\n",
        "\n",
        "  def act(self, state, epsilon = 0.):\n",
        "    state = torch.from_numpy(state).float().unsqueeze(0).to(self.device)\n",
        "    self.local_qnetwork.eval()\n",
        "    with torch.no_grad():\n",
        "      action_values = self.local_qnetwork(state)\n",
        "    self.local_qnetwork.train()\n",
        "    if random.random() > epsilon:\n",
        "      return np.argmax(action_values.cpu().data.numpy())\n",
        "    else:\n",
        "      return random.choice(np.arange(self.action_size))\n",
        "\n",
        "  def learn(self, experiences, discount_factor):\n",
        "    states, next_states, actions, rewards, dones = experiences\n",
        "    next_q_targets = self.target_qnetwork(next_states).detach().max(1)[0].unsqueeze(1)\n",
        "    q_targets = rewards + discount_factor * next_q_targets * (1 - dones)\n",
        "    q_expected = self.local_qnetwork(states).gather(1, actions)\n",
        "    loss = F.mse_loss(q_expected, q_targets)\n",
        "    self.optimizer.zero_grad()\n",
        "    loss.backward()\n",
        "    self.optimizer.step()\n",
        "    self.soft_update(self.local_qnetwork, self.target_qnetwork, interpolation_parameter)\n",
        "\n",
        "  def soft_update(self, local_model, target_model, interpolation_parameter):\n",
        "    for target_param, local_param in zip(target_model.parameters(), local_model.parameters()):\n",
        "      target_param.data.copy_(interpolation_parameter * local_param.data + (1.0 - interpolation_parameter) * target_param.data)"
      ],
      "metadata": {
        "id": "yqpnJKpyoLfP"
      },
      "execution_count": 7,
      "outputs": []
    },
    {
      "cell_type": "markdown",
      "metadata": {
        "id": "o1tZElccZmf6"
      },
      "source": [
        "### Initializing the DQN agent"
      ]
    },
    {
      "cell_type": "code",
      "source": [
        "agent = Agent(state_size, number_actions)"
      ],
      "metadata": {
        "id": "Ff_MWhZcoRoh"
      },
      "execution_count": 8,
      "outputs": []
    },
    {
      "cell_type": "markdown",
      "metadata": {
        "id": "E8v0PtUfaVQp"
      },
      "source": [
        "### Training the DQN agent"
      ]
    },
    {
      "cell_type": "code",
      "source": [
        "number_episodes = 2000\n",
        "maximum_number_timesteps_per_episode = 1000\n",
        "epsilon_starting_value  = 1.0\n",
        "epsilon_ending_value  = 0.01\n",
        "epsilon_decay_value  = 0.995\n",
        "epsilon = epsilon_starting_value\n",
        "scores_on_100_episodes = deque(maxlen = 100)\n",
        "\n",
        "for episode in range(1, number_episodes + 1):\n",
        "  state, _ = env.reset()\n",
        "  score = 0\n",
        "  for t in range(maximum_number_timesteps_per_episode):\n",
        "    action = agent.act(state, epsilon)\n",
        "    next_state, reward, done, _, _ = env.step(action)\n",
        "    agent.step(state, action, reward, next_state, done)\n",
        "    state = next_state\n",
        "    score += reward\n",
        "    if done:\n",
        "      break\n",
        "  scores_on_100_episodes.append(score)\n",
        "  epsilon = max(epsilon_ending_value, epsilon_decay_value * epsilon)\n",
        "  print('\\rEpisode {}\\tAverage Score: {:.2f}'.format(episode, np.mean(scores_on_100_episodes)), end = \"\")\n",
        "  if episode % 100 == 0:\n",
        "    print('\\rEpisode {}\\tAverage Score: {:.2f}'.format(episode, np.mean(scores_on_100_episodes)))\n",
        "  if np.mean(scores_on_100_episodes) >= 200.0:\n",
        "    print('\\nEnvironment solved in {:d} episodes!\\tAverage Score: {:.2f}'.format(episode - 100, np.mean(scores_on_100_episodes)))\n",
        "    torch.save(agent.local_qnetwork.state_dict(), 'checkpoint.pth')\n",
        "    break"
      ],
      "metadata": {
        "colab": {
          "base_uri": "https://localhost:8080/"
        },
        "id": "oI9-shTVoZ77",
        "outputId": "26dbb956-e5b9-4ff7-bc5f-dc38d57f4bf5"
      },
      "execution_count": 9,
      "outputs": [
        {
          "output_type": "stream",
          "name": "stderr",
          "text": [
            "/usr/local/lib/python3.10/dist-packages/ipykernel/ipkernel.py:283: DeprecationWarning: `should_run_async` will not call `transform_cell` automatically in the future. Please pass the result to `transformed_cell` argument and any exception that happen during thetransform in `preprocessing_exc_tuple` in IPython 7.17 and above.\n",
            "  and should_run_async(code)\n"
          ]
        },
        {
          "output_type": "stream",
          "name": "stdout",
          "text": [
            "Episode 100\tAverage Score: -183.07\n",
            "Episode 200\tAverage Score: -92.34\n",
            "Episode 300\tAverage Score: -28.69\n",
            "Episode 400\tAverage Score: 54.93\n",
            "Episode 500\tAverage Score: 163.10\n",
            "Episode 600\tAverage Score: 194.80\n",
            "Episode 700\tAverage Score: 150.77\n",
            "Episode 784\tAverage Score: 200.68\n",
            "Environment solved in 684 episodes!\tAverage Score: 200.68\n"
          ]
        }
      ]
    },
    {
      "cell_type": "markdown",
      "metadata": {
        "id": "O8CNwdOTcCoP"
      },
      "source": [
        "## Part 3 - Visualizing the results"
      ]
    },
    {
      "cell_type": "code",
      "execution_count": 10,
      "metadata": {
        "id": "cb9nVvU2Okhk",
        "colab": {
          "base_uri": "https://localhost:8080/",
          "height": 459
        },
        "outputId": "7b2c9cf9-9577-484a-c9da-ba854fefc5a6"
      },
      "outputs": [
        {
          "output_type": "stream",
          "name": "stderr",
          "text": [
            "WARNING:imageio_ffmpeg:IMAGEIO FFMPEG_WRITER WARNING: input image is not divisible by macro_block_size=16, resizing from (600, 400) to (608, 400) to ensure video compatibility with most codecs and players. To prevent resizing, make your input image divisible by the macro_block_size or set the macro_block_size to 1 (risking incompatibility).\n"
          ]
        },
        {
          "output_type": "display_data",
          "data": {
            "text/plain": [
              "<IPython.core.display.HTML object>"
            ],
            "text/html": [
              "<video alt=\"test\" autoplay\n",
              "                loop controls style=\"height: 400px;\">\n",
              "                <source src=\"data:video/mp4;base64,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\" type=\"video/mp4\" />\n",
              "             </video>"
            ]
          },
          "metadata": {}
        }
      ],
      "source": [
        "import glob\n",
        "import io\n",
        "import base64\n",
        "import imageio\n",
        "from IPython.display import HTML, display\n",
        "from gym.wrappers.monitoring.video_recorder import VideoRecorder\n",
        "\n",
        "def show_video_of_model(agent, env_name):\n",
        "    env = gym.make(env_name, render_mode='rgb_array')\n",
        "    state, _ = env.reset()\n",
        "    done = False\n",
        "    frames = []\n",
        "    while not done:\n",
        "        frame = env.render()\n",
        "        frames.append(frame)\n",
        "        action = agent.act(state)\n",
        "        state, reward, done, _, _ = env.step(action.item())\n",
        "    env.close()\n",
        "    imageio.mimsave('video.mp4', frames, fps=30)\n",
        "\n",
        "show_video_of_model(agent, 'LunarLander-v2')\n",
        "\n",
        "def show_video():\n",
        "    mp4list = glob.glob('*.mp4')\n",
        "    if len(mp4list) > 0:\n",
        "        mp4 = mp4list[0]\n",
        "        video = io.open(mp4, 'r+b').read()\n",
        "        encoded = base64.b64encode(video)\n",
        "        display(HTML(data='''<video alt=\"test\" autoplay\n",
        "                loop controls style=\"height: 400px;\">\n",
        "                <source src=\"data:video/mp4;base64,{0}\" type=\"video/mp4\" />\n",
        "             </video>'''.format(encoded.decode('ascii'))))\n",
        "    else:\n",
        "        print(\"Could not find video\")\n",
        "\n",
        "show_video()"
      ]
    }
  ],
  "metadata": {
    "colab": {
      "provenance": [],
      "toc_visible": true,
      "include_colab_link": true
    },
    "kernelspec": {
      "display_name": "Python 3",
      "name": "python3"
    },
    "language_info": {
      "name": "python"
    }
  },
  "nbformat": 4,
  "nbformat_minor": 0
}